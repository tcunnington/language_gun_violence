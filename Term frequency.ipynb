{
 "cells": [
  {
   "cell_type": "code",
   "execution_count": 1,
   "metadata": {
    "collapsed": true
   },
   "outputs": [],
   "source": [
    "import os\n",
    "import numpy as np\n",
    "import pandas as pd\n",
    "import math\n",
    "\n",
    "from textblob import TextBlob as tb\n",
    "from __future__ import division, unicode_literals\n",
    "\n",
    "import matplotlib.pyplot as plt\n",
    "from IPython.display import IFrame, display\n",
    "\n",
    "pd.options.display.max_columns = None"
   ]
  },
  {
   "cell_type": "code",
   "execution_count": 2,
   "metadata": {
    "collapsed": true
   },
   "outputs": [],
   "source": [
    "import sys  \n",
    "\n",
    "# reload(sys)  \n",
    "# sys.setdefaultencoding('utf8') # needed for textblob"
   ]
  },
  {
   "cell_type": "code",
   "execution_count": 3,
   "metadata": {},
   "outputs": [],
   "source": [
    "file1 = \"data/articles1.csv\"\n",
    "# filenames = [\"data/articles{}.csv\".format(n) for n in [1,2,3]]"
   ]
  },
  {
   "cell_type": "code",
   "execution_count": 4,
   "metadata": {},
   "outputs": [
    {
     "name": "stdout",
     "output_type": "stream",
     "text": [
      "<class 'pandas.core.frame.DataFrame'>\n",
      "RangeIndex: 50000 entries, 0 to 49999\n",
      "Data columns (total 10 columns):\n",
      "Unnamed: 0     50000 non-null int64\n",
      "id             50000 non-null int64\n",
      "title          50000 non-null object\n",
      "publication    50000 non-null object\n",
      "author         43694 non-null object\n",
      "date           50000 non-null object\n",
      "year           50000 non-null float64\n",
      "month          50000 non-null float64\n",
      "url            0 non-null float64\n",
      "content        50000 non-null object\n",
      "dtypes: float64(3), int64(2), object(5)\n",
      "memory usage: 3.8+ MB\n"
     ]
    }
   ],
   "source": [
    "df = pd.read_csv(file1, encoding='utf-8')\n",
    "# df['content'] = df.content.str.encode('utf-8')\n",
    "df.info()"
   ]
  },
  {
   "cell_type": "code",
   "execution_count": 5,
   "metadata": {},
   "outputs": [
    {
     "data": {
      "text/html": [
       "<div>\n",
       "<style scoped>\n",
       "    .dataframe tbody tr th:only-of-type {\n",
       "        vertical-align: middle;\n",
       "    }\n",
       "\n",
       "    .dataframe tbody tr th {\n",
       "        vertical-align: top;\n",
       "    }\n",
       "\n",
       "    .dataframe thead th {\n",
       "        text-align: right;\n",
       "    }\n",
       "</style>\n",
       "<table border=\"1\" class=\"dataframe\">\n",
       "  <thead>\n",
       "    <tr style=\"text-align: right;\">\n",
       "      <th></th>\n",
       "      <th>Unnamed: 0</th>\n",
       "      <th>id</th>\n",
       "      <th>title</th>\n",
       "      <th>publication</th>\n",
       "      <th>author</th>\n",
       "      <th>date</th>\n",
       "      <th>year</th>\n",
       "      <th>month</th>\n",
       "      <th>url</th>\n",
       "      <th>content</th>\n",
       "    </tr>\n",
       "  </thead>\n",
       "  <tbody>\n",
       "    <tr>\n",
       "      <th>0</th>\n",
       "      <td>0</td>\n",
       "      <td>17283</td>\n",
       "      <td>House Republicans Fret About Winning Their Hea...</td>\n",
       "      <td>New York Times</td>\n",
       "      <td>Carl Hulse</td>\n",
       "      <td>2016-12-31</td>\n",
       "      <td>2016.0</td>\n",
       "      <td>12.0</td>\n",
       "      <td>NaN</td>\n",
       "      <td>WASHINGTON  —   Congressional Republicans have...</td>\n",
       "    </tr>\n",
       "    <tr>\n",
       "      <th>1</th>\n",
       "      <td>1</td>\n",
       "      <td>17284</td>\n",
       "      <td>Rift Between Officers and Residents as Killing...</td>\n",
       "      <td>New York Times</td>\n",
       "      <td>Benjamin Mueller and Al Baker</td>\n",
       "      <td>2017-06-19</td>\n",
       "      <td>2017.0</td>\n",
       "      <td>6.0</td>\n",
       "      <td>NaN</td>\n",
       "      <td>After the bullet shells get counted, the blood...</td>\n",
       "    </tr>\n",
       "    <tr>\n",
       "      <th>2</th>\n",
       "      <td>2</td>\n",
       "      <td>17285</td>\n",
       "      <td>Tyrus Wong, ‘Bambi’ Artist Thwarted by Racial ...</td>\n",
       "      <td>New York Times</td>\n",
       "      <td>Margalit Fox</td>\n",
       "      <td>2017-01-06</td>\n",
       "      <td>2017.0</td>\n",
       "      <td>1.0</td>\n",
       "      <td>NaN</td>\n",
       "      <td>When Walt Disney’s “Bambi” opened in 1942, cri...</td>\n",
       "    </tr>\n",
       "    <tr>\n",
       "      <th>3</th>\n",
       "      <td>3</td>\n",
       "      <td>17286</td>\n",
       "      <td>Among Deaths in 2016, a Heavy Toll in Pop Musi...</td>\n",
       "      <td>New York Times</td>\n",
       "      <td>William McDonald</td>\n",
       "      <td>2017-04-10</td>\n",
       "      <td>2017.0</td>\n",
       "      <td>4.0</td>\n",
       "      <td>NaN</td>\n",
       "      <td>Death may be the great equalizer, but it isn’t...</td>\n",
       "    </tr>\n",
       "    <tr>\n",
       "      <th>4</th>\n",
       "      <td>4</td>\n",
       "      <td>17287</td>\n",
       "      <td>Kim Jong-un Says North Korea Is Preparing to T...</td>\n",
       "      <td>New York Times</td>\n",
       "      <td>Choe Sang-Hun</td>\n",
       "      <td>2017-01-02</td>\n",
       "      <td>2017.0</td>\n",
       "      <td>1.0</td>\n",
       "      <td>NaN</td>\n",
       "      <td>SEOUL, South Korea  —   North Korea’s leader, ...</td>\n",
       "    </tr>\n",
       "  </tbody>\n",
       "</table>\n",
       "</div>"
      ],
      "text/plain": [
       "   Unnamed: 0     id                                              title  \\\n",
       "0           0  17283  House Republicans Fret About Winning Their Hea...   \n",
       "1           1  17284  Rift Between Officers and Residents as Killing...   \n",
       "2           2  17285  Tyrus Wong, ‘Bambi’ Artist Thwarted by Racial ...   \n",
       "3           3  17286  Among Deaths in 2016, a Heavy Toll in Pop Musi...   \n",
       "4           4  17287  Kim Jong-un Says North Korea Is Preparing to T...   \n",
       "\n",
       "      publication                         author        date    year  month  \\\n",
       "0  New York Times                     Carl Hulse  2016-12-31  2016.0   12.0   \n",
       "1  New York Times  Benjamin Mueller and Al Baker  2017-06-19  2017.0    6.0   \n",
       "2  New York Times                   Margalit Fox  2017-01-06  2017.0    1.0   \n",
       "3  New York Times               William McDonald  2017-04-10  2017.0    4.0   \n",
       "4  New York Times                  Choe Sang-Hun  2017-01-02  2017.0    1.0   \n",
       "\n",
       "   url                                            content  \n",
       "0  NaN  WASHINGTON  —   Congressional Republicans have...  \n",
       "1  NaN  After the bullet shells get counted, the blood...  \n",
       "2  NaN  When Walt Disney’s “Bambi” opened in 1942, cri...  \n",
       "3  NaN  Death may be the great equalizer, but it isn’t...  \n",
       "4  NaN  SEOUL, South Korea  —   North Korea’s leader, ...  "
      ]
     },
     "execution_count": 5,
     "metadata": {},
     "output_type": "execute_result"
    }
   ],
   "source": [
    "df.head()"
   ]
  },
  {
   "cell_type": "code",
   "execution_count": 6,
   "metadata": {},
   "outputs": [
    {
     "data": {
      "text/plain": [
       "Breitbart           23781\n",
       "CNN                 11488\n",
       "New York Times       7803\n",
       "Business Insider     6757\n",
       "Atlantic              171\n",
       "Name: publication, dtype: int64"
      ]
     },
     "execution_count": 6,
     "metadata": {},
     "output_type": "execute_result"
    }
   ],
   "source": [
    "df.publication.value_counts()"
   ]
  },
  {
   "cell_type": "markdown",
   "metadata": {},
   "source": [
    "#### Wow that feels like a strange skew towards Breitbart (perhaps because they are prolific). Will have to keep this in mind whenever considering relative frequencies"
   ]
  },
  {
   "cell_type": "code",
   "execution_count": 7,
   "metadata": {},
   "outputs": [],
   "source": [
    "from nltk.corpus import stopwords\n",
    "from nltk.tokenize import word_tokenize\n",
    "\n",
    "stop_words = stopwords.words('english')\n",
    "# .apply(lambda x: )\n",
    "\n",
    "def preprocess(doc):\n",
    "    doc = doc.lower().replace('[^\\w\\s]','').replace(u'•','')\n",
    "    doc = \" \".join([w for w in word_tokenize(doc) if not w in stop_words])\n",
    "    return doc\n",
    "\n",
    "def df_to_stringlist(df):\n",
    "    docs = df['content'].tolist()\n",
    "    return [preprocess(doc) for doc in docs]"
   ]
  },
  {
   "cell_type": "code",
   "execution_count": 8,
   "metadata": {},
   "outputs": [],
   "source": [
    "# orlando shooting happened on 6/12/2016\n",
    "df['day'] = df.date.map(lambda d: int(d.split('-')[2]))\n",
    "other_events_df = df[(df.year == 2016) & (df.month == 6) & (df.day >= 12)].head(4)\n",
    "other_events = df_to_stringlist(other_events_df)"
   ]
  },
  {
   "cell_type": "code",
   "execution_count": 9,
   "metadata": {},
   "outputs": [],
   "source": [
    "# ids 20547 and 20550 are for orlando\n",
    "orlando_stories = df_to_stringlist(df[df.id.isin([20547, 20550])])"
   ]
  },
  {
   "cell_type": "code",
   "execution_count": 10,
   "metadata": {},
   "outputs": [],
   "source": [
    "stories = orlando_stories + other_events"
   ]
  },
  {
   "cell_type": "code",
   "execution_count": 11,
   "metadata": {
    "collapsed": true
   },
   "outputs": [],
   "source": [
    "def tf(word, blob):\n",
    "    return blob.words.count(word) / len(blob.words)\n",
    "\n",
    "def n_containing(word, bloblist):\n",
    "    return sum(1 for blob in bloblist if word in blob.words)\n",
    "\n",
    "def idf(word, bloblist):\n",
    "    return math.log(len(bloblist) / (1 + n_containing(word, bloblist)))\n",
    "\n",
    "def tfidf(word, blob, bloblist):\n",
    "    return tf(word, blob) * idf(word, bloblist)"
   ]
  },
  {
   "cell_type": "code",
   "execution_count": 21,
   "metadata": {
    "collapsed": true
   },
   "outputs": [],
   "source": [
    "def get_top_words(bloblist, blobcorpus, ntop_words=3):\n",
    "    top_words = []\n",
    "    for i, blob in enumerate(bloblist):\n",
    "        print(\"Top words in document {}:\".format(i + 1))\n",
    "        scores = {word: tfidf(word, blob, blobcorpus) for word in blob.words}\n",
    "        sorted_words = sorted(scores.items(), key=lambda x: x[1], reverse=True)\n",
    "        for word, score in sorted_words[:ntop_words]:\n",
    "            print(\"\\tWord: {}, TF-IDF: {}\".format(word, round(score, 5)))\n",
    "        \n",
    "        top_words.append(sorted_words[:ntop_words])\n",
    "        \n",
    "    return top_words"
   ]
  },
  {
   "cell_type": "code",
   "execution_count": 23,
   "metadata": {},
   "outputs": [
    {
     "name": "stdout",
     "output_type": "stream",
     "text": [
      "Top words in document 1:\n",
      "\tWord: mateen, TF-IDF: 0.01781\n",
      "\tWord: shooting, TF-IDF: 0.01781\n",
      "\tWord: islamic, TF-IDF: 0.01394\n",
      "\tWord: orlando, TF-IDF: 0.01394\n",
      "\tWord: mr, TF-IDF: 0.01313\n",
      "\tWord: enforcement, TF-IDF: 0.01187\n",
      "\tWord: assault, TF-IDF: 0.01141\n",
      "\tWord: dead, TF-IDF: 0.01141\n",
      "\tWord: law, TF-IDF: 0.00832\n",
      "\tWord: relatives, TF-IDF: 0.00813\n",
      "Top words in document 2:\n",
      "\tWord: mateen, TF-IDF: 0.05606\n",
      "\tWord: mr, TF-IDF: 0.02737\n",
      "\tWord: gunman, TF-IDF: 0.02672\n",
      "\tWord: islamic, TF-IDF: 0.01717\n",
      "\tWord: killed, TF-IDF: 0.01717\n",
      "\tWord: attack, TF-IDF: 0.01538\n",
      "\tWord: shooting, TF-IDF: 0.01462\n",
      "\tWord: orlando, TF-IDF: 0.01288\n",
      "\tWord: police, TF-IDF: 0.01196\n",
      "\tWord: explosives, TF-IDF: 0.01125\n",
      "Top words in document 3:\n",
      "\tWord: mcdonnell, TF-IDF: 0.04664\n",
      "\tWord: justice, TF-IDF: 0.04443\n",
      "\tWord: court, TF-IDF: 0.03403\n",
      "\tWord: corruption, TF-IDF: 0.0272\n",
      "\tWord: mr, TF-IDF: 0.02606\n",
      "\tWord: supreme, TF-IDF: 0.02332\n",
      "\tWord: roberts, TF-IDF: 0.01636\n",
      "\tWord: chief, TF-IDF: 0.01555\n",
      "\tWord: dreeben, TF-IDF: 0.01555\n",
      "\tWord: justices, TF-IDF: 0.01555\n"
     ]
    }
   ],
   "source": [
    "bloblist = [tb(doc) for doc in stories]\n",
    "corpus = [tb(doc) for doc in stories + df_to_stringlist(df.sample(20))]\n",
    "top_words = get_top_words(bloblist[:3], corpus,10)"
   ]
  },
  {
   "cell_type": "code",
   "execution_count": 42,
   "metadata": {},
   "outputs": [],
   "source": [
    "words1, scores1 = [list(x) for x in zip(*top_words[0])]\n",
    "words2, scores2 = [list(x) for x in zip(*top_words[2])]"
   ]
  },
  {
   "cell_type": "code",
   "execution_count": 57,
   "metadata": {},
   "outputs": [
    {
     "data": {
      "image/png": "[encoded data removed]",
      "text/plain": [
       "<matplotlib.figure.Figure at 0x1a2193a250>"
      ]
     },
     "metadata": {},
     "output_type": "display_data"
    }
   ],
   "source": [
    "x = range(len(scores))\n",
    "\n",
    "fig, axarr = plt.subplots(1,2,sharey='row', figsize=(16,7))\n",
    "\n",
    "ax1 = axarr[0]\n",
    "ax2 = axarr[1]\n",
    "\n",
    "ax1.set_title('Top words in orlando story')\n",
    "ax1.bar(x, scores1)\n",
    "ax1.set_ylabel('TF-IDF score')\n",
    "plt.sca(ax1)\n",
    "plt.xticks(x, words1, rotation=45)\n",
    "\n",
    "ax2.set_title('Top words in supreme court story')\n",
    "ax2.bar(x, scores2)\n",
    "plt.sca(ax2)\n",
    "plt.xticks(x, words2, rotation=45)\n",
    "\n",
    "plt.savefig('compare_orlando_tfidf_scores.png')\n",
    "plt.show()"
   ]
  },
  {
   "cell_type": "code",
   "execution_count": null,
   "metadata": {
    "collapsed": true
   },
   "outputs": [],
   "source": []
  }
 ],
 "metadata": {
  "kernelspec": {
   "display_name": "Python 2",
   "language": "python",
   "name": "python2"
  },
  "language_info": {
   "codemirror_mode": {
    "name": "ipython",
    "version": 2
   },
   "file_extension": ".py",
   "mimetype": "text/x-python",
   "name": "python",
   "nbconvert_exporter": "python",
   "pygments_lexer": "ipython2",
   "version": "2.7.14"
  }
 },
 "nbformat": 4,
 "nbformat_minor": 2
}
