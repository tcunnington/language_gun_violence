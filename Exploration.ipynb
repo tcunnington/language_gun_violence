{
 "cells": [
  {
   "cell_type": "code",
   "execution_count": 1,
   "metadata": {},
   "outputs": [
    {
     "name": "stderr",
     "output_type": "stream",
     "text": [
      "/Users/Taylor/anaconda2/lib/python2.7/site-packages/IPython/core/interactiveshell.py:2882: FutureWarning: \n",
      "mpl_style had been deprecated and will be removed in a future version.\n",
      "Use `matplotlib.pyplot.style.use` instead.\n",
      "\n",
      "  exec(code_obj, self.user_global_ns, self.user_ns)\n"
     ]
    }
   ],
   "source": [
    "import os\n",
    "import numpy as np\n",
    "import pandas as pd\n",
    "\n",
    "import matplotlib.pyplot as plt\n",
    "pd.options.display.mpl_style = 'default'\n",
    "\n",
    "from IPython.display import IFrame, display"
   ]
  },
  {
   "cell_type": "code",
   "execution_count": 2,
   "metadata": {
    "collapsed": true
   },
   "outputs": [],
   "source": [
    "filename = \"data/Mother Jones' Investigation_ US Mass Shootings, 1982-2018 - US mass shootings.csv\""
   ]
  },
  {
   "cell_type": "code",
   "execution_count": 66,
   "metadata": {},
   "outputs": [
    {
     "name": "stdout",
     "output_type": "stream",
     "text": [
      "<class 'pandas.core.frame.DataFrame'>\n",
      "RangeIndex: 99 entries, 0 to 98\n",
      "Data columns (total 22 columns):\n",
      "case                                   99 non-null object\n",
      "location                               99 non-null object\n",
      "date                                   99 non-null object\n",
      "year                                   99 non-null int64\n",
      "summary                                99 non-null object\n",
      "Fatalities                             99 non-null int64\n",
      "Injured                                99 non-null int64\n",
      "total_victims                          99 non-null object\n",
      "Venue                                  99 non-null object\n",
      "Prior signs of mental health issues    99 non-null object\n",
      "Mental health - details                98 non-null object\n",
      "Weapons obtained legally               99 non-null object\n",
      "Where obtained                         98 non-null object\n",
      "Type of weapons                        99 non-null object\n",
      "Weapon details                         99 non-null object\n",
      "Race                                   99 non-null object\n",
      "Gender                                 99 non-null object\n",
      "Sources                                99 non-null object\n",
      "Mental Health Sources                  99 non-null object\n",
      "latitude                               99 non-null float64\n",
      "longitude                              99 non-null float64\n",
      "Type                                   99 non-null object\n",
      "dtypes: float64(2), int64(3), object(17)\n",
      "memory usage: 17.1+ KB\n"
     ]
    }
   ],
   "source": [
    "df = pd.read_csv(filename)\n",
    "\n",
    "df.info()"
   ]
  },
  {
   "cell_type": "code",
   "execution_count": 128,
   "metadata": {},
   "outputs": [
    {
     "data": {
      "text/plain": [
       "array(['8', '3', '31', '5', '15', '46', '6', '604',\n",
       "       '11 (dozens more were reportedly injured in the panic)', '16',\n",
       "       '102', '17', '35', '12', '18', '7', '10', '4', '19', '20', '9',\n",
       "       '29', '82', '11', '43', '26', '13', '55', '22', '37', '28', '25',\n",
       "       '14', '44', '21', '41'], dtype=object)"
      ]
     },
     "execution_count": 128,
     "metadata": {},
     "output_type": "execute_result"
    }
   ],
   "source": [
    "# What's up with total_victims not being numeric?? That would be useful\n",
    "df.total_victims.unique()"
   ]
  },
  {
   "cell_type": "code",
   "execution_count": 130,
   "metadata": {},
   "outputs": [
    {
     "data": {
      "text/plain": [
       "dtype('int64')"
      ]
     },
     "execution_count": 130,
     "metadata": {},
     "output_type": "execute_result"
    }
   ],
   "source": [
    "# Ugh someone threw a string in there. Ok well....\n",
    "df['casualties'] = df.Injured + df.Fatalities\n",
    "df.casualties.dtype"
   ]
  },
  {
   "cell_type": "code",
   "execution_count": 4,
   "metadata": {},
   "outputs": [
    {
     "data": {
      "text/html": [
       "<div>\n",
       "<style>\n",
       "    .dataframe thead tr:only-child th {\n",
       "        text-align: right;\n",
       "    }\n",
       "\n",
       "    .dataframe thead th {\n",
       "        text-align: left;\n",
       "    }\n",
       "\n",
       "    .dataframe tbody tr th {\n",
       "        vertical-align: top;\n",
       "    }\n",
       "</style>\n",
       "<table border=\"1\" class=\"dataframe\">\n",
       "  <thead>\n",
       "    <tr style=\"text-align: right;\">\n",
       "      <th></th>\n",
       "      <th>case</th>\n",
       "      <th>location</th>\n",
       "      <th>date</th>\n",
       "      <th>year</th>\n",
       "      <th>summary</th>\n",
       "      <th>Fatalities</th>\n",
       "      <th>Injured</th>\n",
       "      <th>total_victims</th>\n",
       "      <th>Venue</th>\n",
       "      <th>Prior signs of mental health issues</th>\n",
       "      <th>...</th>\n",
       "      <th>Where obtained</th>\n",
       "      <th>Type of weapons</th>\n",
       "      <th>Weapon details</th>\n",
       "      <th>Race</th>\n",
       "      <th>Gender</th>\n",
       "      <th>Sources</th>\n",
       "      <th>Mental Health Sources</th>\n",
       "      <th>latitude</th>\n",
       "      <th>longitude</th>\n",
       "      <th>Type</th>\n",
       "    </tr>\n",
       "  </thead>\n",
       "  <tbody>\n",
       "    <tr>\n",
       "      <th>0</th>\n",
       "      <td>Waffle House shooting</td>\n",
       "      <td>Nashville, TN</td>\n",
       "      <td>4/22/18</td>\n",
       "      <td>2018</td>\n",
       "      <td>Travis Reinking, 29, opened fire around 3:30 a...</td>\n",
       "      <td>4</td>\n",
       "      <td>4</td>\n",
       "      <td>8</td>\n",
       "      <td>Other</td>\n",
       "      <td>Yes</td>\n",
       "      <td>...</td>\n",
       "      <td>Family member</td>\n",
       "      <td>semiautomatic rifle</td>\n",
       "      <td>AR-15</td>\n",
       "      <td>White</td>\n",
       "      <td>M</td>\n",
       "      <td>https://www.washingtonpost.com/news/post-natio...</td>\n",
       "      <td>https://www.buzzfeed.com/briannasacks/this-is-...</td>\n",
       "      <td>36.052521</td>\n",
       "      <td>-86.616944</td>\n",
       "      <td>Mass</td>\n",
       "    </tr>\n",
       "    <tr>\n",
       "      <th>1</th>\n",
       "      <td>Yountville veterans home shooting</td>\n",
       "      <td>Yountville, CA</td>\n",
       "      <td>3/9/18</td>\n",
       "      <td>2018</td>\n",
       "      <td>Army veteran Albert Cheung Wong, 36, stormed a...</td>\n",
       "      <td>3</td>\n",
       "      <td>0</td>\n",
       "      <td>3</td>\n",
       "      <td>Workplace</td>\n",
       "      <td>Yes</td>\n",
       "      <td>...</td>\n",
       "      <td>TBD</td>\n",
       "      <td>semiautomatic rifle; shotgun</td>\n",
       "      <td>-</td>\n",
       "      <td>Asian</td>\n",
       "      <td>M</td>\n",
       "      <td>https://www.cnn.com/2018/03/10/us/california-v...</td>\n",
       "      <td>https://www.cnn.com/2018/03/10/us/california-v...</td>\n",
       "      <td>38.392496</td>\n",
       "      <td>-122.366528</td>\n",
       "      <td>Mass</td>\n",
       "    </tr>\n",
       "    <tr>\n",
       "      <th>2</th>\n",
       "      <td>Stoneman Douglas High School shooting</td>\n",
       "      <td>Parkland, Florida</td>\n",
       "      <td>2/14/18</td>\n",
       "      <td>2018</td>\n",
       "      <td>Nikolas J. Cruz, 19, heavily armed with an AR-...</td>\n",
       "      <td>17</td>\n",
       "      <td>14</td>\n",
       "      <td>31</td>\n",
       "      <td>School</td>\n",
       "      <td>Yes</td>\n",
       "      <td>...</td>\n",
       "      <td>A Florida pawn shop</td>\n",
       "      <td>semiautomatic rifle</td>\n",
       "      <td>AR-15</td>\n",
       "      <td>White</td>\n",
       "      <td>M</td>\n",
       "      <td>https://www.nytimes.com/2018/02/14/us/parkland...</td>\n",
       "      <td>https://www.nytimes.com/2018/02/15/us/nikolas-...</td>\n",
       "      <td>26.304830</td>\n",
       "      <td>-80.269511</td>\n",
       "      <td>Mass</td>\n",
       "    </tr>\n",
       "    <tr>\n",
       "      <th>3</th>\n",
       "      <td>Pennsylvania carwash shooting</td>\n",
       "      <td>Melcroft, PA</td>\n",
       "      <td>1/28/18</td>\n",
       "      <td>2018</td>\n",
       "      <td>Timothy O'Brien Smith, 28, wearing body armor ...</td>\n",
       "      <td>4</td>\n",
       "      <td>1</td>\n",
       "      <td>5</td>\n",
       "      <td>Other</td>\n",
       "      <td>TBD</td>\n",
       "      <td>...</td>\n",
       "      <td>TBD</td>\n",
       "      <td>semiautomatic rifle and semiautomatic handgun</td>\n",
       "      <td>-</td>\n",
       "      <td>White</td>\n",
       "      <td>M</td>\n",
       "      <td>http://www.wpxi.com/news/top-stories/family-me...</td>\n",
       "      <td>-</td>\n",
       "      <td>40.052151</td>\n",
       "      <td>-79.389166</td>\n",
       "      <td>Mass</td>\n",
       "    </tr>\n",
       "    <tr>\n",
       "      <th>4</th>\n",
       "      <td>Rancho Tehama shooting spree</td>\n",
       "      <td>Rancho Tehama, CA</td>\n",
       "      <td>11/14/17</td>\n",
       "      <td>2017</td>\n",
       "      <td>Kevin Janson Neal, 44, went on an approximatel...</td>\n",
       "      <td>5</td>\n",
       "      <td>10</td>\n",
       "      <td>15</td>\n",
       "      <td>Other</td>\n",
       "      <td>TBD</td>\n",
       "      <td>...</td>\n",
       "      <td>TBD</td>\n",
       "      <td>semiautomatic rifles</td>\n",
       "      <td>Two illegally modified rifles</td>\n",
       "      <td>White</td>\n",
       "      <td>M</td>\n",
       "      <td>https://www.nbcnews.com/news/us-news/californi...</td>\n",
       "      <td>-</td>\n",
       "      <td>40.018759</td>\n",
       "      <td>-122.393089</td>\n",
       "      <td>Spree</td>\n",
       "    </tr>\n",
       "  </tbody>\n",
       "</table>\n",
       "<p>5 rows × 22 columns</p>\n",
       "</div>"
      ],
      "text/plain": [
       "                                    case           location      date  year  \\\n",
       "0                  Waffle House shooting      Nashville, TN   4/22/18  2018   \n",
       "1      Yountville veterans home shooting     Yountville, CA    3/9/18  2018   \n",
       "2  Stoneman Douglas High School shooting  Parkland, Florida   2/14/18  2018   \n",
       "3          Pennsylvania carwash shooting       Melcroft, PA   1/28/18  2018   \n",
       "4           Rancho Tehama shooting spree  Rancho Tehama, CA  11/14/17  2017   \n",
       "\n",
       "                                             summary  Fatalities  Injured  \\\n",
       "0  Travis Reinking, 29, opened fire around 3:30 a...           4        4   \n",
       "1  Army veteran Albert Cheung Wong, 36, stormed a...           3        0   \n",
       "2  Nikolas J. Cruz, 19, heavily armed with an AR-...          17       14   \n",
       "3  Timothy O'Brien Smith, 28, wearing body armor ...           4        1   \n",
       "4  Kevin Janson Neal, 44, went on an approximatel...           5       10   \n",
       "\n",
       "  total_victims      Venue Prior signs of mental health issues  ...    \\\n",
       "0             8      Other                                 Yes  ...     \n",
       "1             3  Workplace                                 Yes  ...     \n",
       "2            31     School                                 Yes  ...     \n",
       "3             5      Other                                 TBD  ...     \n",
       "4            15      Other                                 TBD  ...     \n",
       "\n",
       "        Where obtained                                Type of weapons  \\\n",
       "0        Family member                            semiautomatic rifle   \n",
       "1                  TBD                   semiautomatic rifle; shotgun   \n",
       "2  A Florida pawn shop                            semiautomatic rifle   \n",
       "3                  TBD  semiautomatic rifle and semiautomatic handgun   \n",
       "4                  TBD                           semiautomatic rifles   \n",
       "\n",
       "                  Weapon details   Race Gender  \\\n",
       "0                          AR-15  White      M   \n",
       "1                              -  Asian      M   \n",
       "2                          AR-15  White      M   \n",
       "3                              -  White      M   \n",
       "4  Two illegally modified rifles  White      M   \n",
       "\n",
       "                                             Sources  \\\n",
       "0  https://www.washingtonpost.com/news/post-natio...   \n",
       "1  https://www.cnn.com/2018/03/10/us/california-v...   \n",
       "2  https://www.nytimes.com/2018/02/14/us/parkland...   \n",
       "3  http://www.wpxi.com/news/top-stories/family-me...   \n",
       "4  https://www.nbcnews.com/news/us-news/californi...   \n",
       "\n",
       "                               Mental Health Sources   latitude   longitude  \\\n",
       "0  https://www.buzzfeed.com/briannasacks/this-is-...  36.052521  -86.616944   \n",
       "1  https://www.cnn.com/2018/03/10/us/california-v...  38.392496 -122.366528   \n",
       "2  https://www.nytimes.com/2018/02/15/us/nikolas-...  26.304830  -80.269511   \n",
       "3                                                  -  40.052151  -79.389166   \n",
       "4                                                  -  40.018759 -122.393089   \n",
       "\n",
       "    Type  \n",
       "0   Mass  \n",
       "1   Mass  \n",
       "2   Mass  \n",
       "3   Mass  \n",
       "4  Spree  \n",
       "\n",
       "[5 rows x 22 columns]"
      ]
     },
     "execution_count": 4,
     "metadata": {},
     "output_type": "execute_result"
    }
   ],
   "source": [
    "df.head()"
   ]
  },
  {
   "cell_type": "code",
   "execution_count": 91,
   "metadata": {},
   "outputs": [
    {
     "data": {
      "text/html": [
       "\n",
       "        <iframe\n",
       "            width=\"850\"\n",
       "            height=\"450\"\n",
       "            src=\"https://www.washingtonpost.com/news/post-nation/wp/2018/04/23/waffle-house-shooting-travis-reinking-manhunt-continues-nashville-police-say/?utm_term=.69579db5fdc6\"\n",
       "            frameborder=\"0\"\n",
       "            allowfullscreen\n",
       "        ></iframe>\n",
       "        "
      ],
      "text/plain": [
       "<IPython.lib.display.IFrame at 0x1a184de590>"
      ]
     },
     "execution_count": 91,
     "metadata": {},
     "output_type": "execute_result"
    }
   ],
   "source": [
    "# most recent story\n",
    "most_recent = df.iloc[[0]]\n",
    "urls = most_recent['Sources'][0].split(';')\n",
    "IFrame(urls[0], width=850, height=450)"
   ]
  },
  {
   "cell_type": "code",
   "execution_count": 6,
   "metadata": {},
   "outputs": [
    {
     "data": {
      "image/png": "[encoded data removed]",
      "text/plain": [
       "<matplotlib.figure.Figure at 0x109c785d0>"
      ]
     },
     "metadata": {},
     "output_type": "display_data"
    }
   ],
   "source": [
    "# numerical columns are just ['year','Fatalities','Injured','latitude','longitude']\n",
    "# doesn't give much to work with in terms of correlation but categorical comparisons can be done\n",
    "df[['Fatalities','Injured']].boxplot()\n",
    "plt.show()"
   ]
  },
  {
   "cell_type": "code",
   "execution_count": 7,
   "metadata": {},
   "outputs": [
    {
     "data": {
      "image/png": "[encoded data removed]",
      "text/plain": [
       "<matplotlib.figure.Figure at 0x1098a6590>"
      ]
     },
     "metadata": {},
     "output_type": "display_data"
    }
   ],
   "source": [
    "# not the most useful plot but I wanna try it\n",
    "def plot_scatter_matrix(df):    \n",
    "    \"\"\"\n",
    "    Make scatterplot matrix to compare multiple features together\n",
    "\n",
    "    Parameters:\n",
    "    -----------\n",
    "    df: a Dataframe to use\n",
    "    \"\"\"\n",
    "#     plt.figure(figsize=(8,8))\n",
    "    axs = pd.plotting.scatter_matrix(df, alpha=0.2, diagonal='kde')\n",
    "\n",
    "    for ax in axs[:,0]: # the left boundary\n",
    "        ax.grid('off', axis='both')\n",
    "        ax.set_yticks([0, .5])\n",
    "\n",
    "    for ax in axs[-1,:]: # the lower boundary\n",
    "        ax.grid('off', axis='both')\n",
    "        ax.set_xticks([0, .5])\n",
    "\n",
    "    figure = plt.gcf()\n",
    "    figure.set_size_inches(8,8)\n",
    "    plt.show()\n",
    "    \n",
    "plot_scatter_matrix(df)"
   ]
  },
  {
   "cell_type": "code",
   "execution_count": 25,
   "metadata": {
    "collapsed": true
   },
   "outputs": [],
   "source": [
    "import mapboxgl as mbgl\n",
    "import pysal.esda.mapclassify as mapclassify\n",
    "\n",
    "from mapboxgl.viz import * \n",
    "\n",
    "data_url = 'https://raw.githubusercontent.com/mapbox/mapboxgl-jupyter/master/examples/data/points.csv'\n",
    "test_df = pd.read_csv(data_url)\n",
    "\n",
    "# Must be a public token, starting with `pk`\n",
    "token = 'pk.eyJ1IjoidHI1IiwiYSI6ImNqZ2cwMm54czA4eDcycXFtdHA1eWNsaW0ifQ.GBCT-wNb5xVec_dtyoWipQ'\n",
    "\n",
    "# Create a geojson file export from a Pandas dataframe\n",
    "# mbgl.utils.df_to_geojson(test_df, filename='test.geojson',\n",
    "#               properties=['Avg Medicare Payments', 'Avg Covered Charges', 'date'],\n",
    "#               lat='lat', lon='lon', precision=3)\n",
    "\n",
    "# data = test_df\n",
    "# main_prop = \"Avg Covered Charges\"\n",
    "# second_prop = \"Avg Medicare Payments\""
   ]
  },
  {
   "cell_type": "code",
   "execution_count": 131,
   "metadata": {},
   "outputs": [
    {
     "data": {
      "text/html": [
       "<iframe id=\"map\", srcdoc=\"<!DOCTYPE html>\n",
       "<html>\n",
       "<head>\n",
       "<title>mapboxgl-jupyter viz</title>\n",
       "<meta charset='UTF-8' />\n",
       "<meta name='viewport'\n",
       "      content='initial-scale=1,maximum-scale=1,user-scalable=no' />\n",
       "<script type='text/javascript'\n",
       "        src='https://api.tiles.mapbox.com/mapbox-gl-js/v0.44.1/mapbox-gl.js'></script>\n",
       "<link type='text/css'\n",
       "      href='https://api.tiles.mapbox.com/mapbox-gl-js/v0.44.1/mapbox-gl.css' rel='stylesheet' />\n",
       "<style type='text/css'>\n",
       "    body { margin:0; padding:0; }\n",
       "    .map { position:absolute; top:0; bottom:0; width:100%; }\n",
       "    .legend {\n",
       "        background-color: white;\n",
       "        color: black;\n",
       "        border-radius: 3px;\n",
       "        bottom: 50px;\n",
       "        width: 100px;\n",
       "        box-shadow: 0 1px 2px rgba(0, 0, 0, 0.10);\n",
       "        font: 12px/20px 'Helvetica Neue', Arial, Helvetica, sans-serif;\n",
       "        padding: 12px;\n",
       "        position: absolute;\n",
       "        right: 10px;\n",
       "        z-index: 1;\n",
       "    }\n",
       "    .legend h4 { margin: 0 0 10px; }\n",
       "    .legend-title {\n",
       "        margin: 6px;\n",
       "        padding: 6px;\n",
       "        font-weight: bold !important;\n",
       "        font-size: 14px;\n",
       "        font: 12px/20px 'Helvetica Neue', Arial, Helvetica, sans-serif;\n",
       "    }\n",
       "    .legend div span {\n",
       "        border-radius: 50%;\n",
       "        display: inline-block;\n",
       "        height: 10px;\n",
       "        margin-right: 5px;\n",
       "        width: 10px;\n",
       "    }\n",
       "</style>\n",
       "\n",
       "</head>\n",
       "<body>\n",
       "\n",
       "<div id='map' class='map'></div>\n",
       "<div id='legend' class='legend'></div>\n",
       "\n",
       "<script type='text/javascript'>\n",
       "\n",
       "function calcCircleColorLegend(myColorStops, title) {\n",
       "    //Calculate a legend element on a Mapbox GL Style Spec property function stops array\n",
       "    var mytitle = document.createElement('div');\n",
       "    mytitle.textContent = title;\n",
       "    mytitle.className = 'legend-title'\n",
       "    var legend = document.getElementById('legend');\n",
       "    legend.appendChild(mytitle);\n",
       "\n",
       "    for (p = 0; p < myColorStops.length; p++) {\n",
       "        if (!!document.getElementById('legend-points-value-' + p)) {\n",
       "            //update the legend if it already exists\n",
       "            document.getElementById('legend-points-value-' + p).textContent = myColorStops[p][0];\n",
       "            document.getElementById('legend-points-id-' + p).style.backgroundColor = myColorStops[p][1];\n",
       "        } else {\n",
       "            //create the legend if it doesn't yet exist\n",
       "            var item = document.createElement('div');\n",
       "            var key = document.createElement('span');\n",
       "            key.className = 'legend-key';\n",
       "            var value = document.createElement('span');\n",
       "\n",
       "            key.id = 'legend-points-id-' + p;\n",
       "            key.style.backgroundColor = myColorStops[p][1];\n",
       "            value.id = 'legend-points-value-' + p;\n",
       "\n",
       "            item.appendChild(key);\n",
       "            item.appendChild(value);\n",
       "            legend.appendChild(item);\n",
       "            \n",
       "            data = document.getElementById('legend-points-value-' + p)\n",
       "            data.textContent = myColorStops[p][0];\n",
       "        }\n",
       "    }\n",
       "}\n",
       "\n",
       "function generateInterpolateExpression(propertyValue, stops) {\n",
       "    var expression;\n",
       "    if (propertyValue == 'zoom') {\n",
       "        expression = ['interpolate', ['exponential', 1.2], ['zoom']]\n",
       "    }\n",
       "    else if (propertyValue == 'heatmap-density') {\n",
       "        expression = ['interpolate', ['exponential', 1.2], ['heatmap-density']]\n",
       "    }\n",
       "    else {\n",
       "        expression = ['interpolate', ['exponential', 1.2], ['get', propertyValue]]\n",
       "    }\n",
       "\n",
       "    for (var i=0; i<stops.length; i++) {\n",
       "        expression.push(stops[i][0], stops[i][1])\n",
       "    }\n",
       "    return expression\n",
       "}\n",
       "\n",
       "\n",
       "function generateMatchExpression(propertyValue, stops, defaultValue) {\n",
       "    var expression;\n",
       "    expression = ['match', ['get', propertyValue]]\n",
       "    for (var i=0; i<stops.length; i++) {\n",
       "        expression.push(stops[i][0], stops[i][1])\n",
       "    }\n",
       "    expression.push(defaultValue)\n",
       "    \n",
       "    return expression\n",
       "}\n",
       "\n",
       "\n",
       "function generatePropertyExpression(expressionType, propertyValue, stops, defaultValue) {\n",
       "    var expression;\n",
       "    if (expressionType == 'match') {\n",
       "        expression = generateMatchExpression(propertyValue, stops, defaultValue)\n",
       "    }\n",
       "    else {\n",
       "        expression = generateInterpolateExpression(propertyValue, stops)\n",
       "    }\n",
       "\n",
       "    return expression\n",
       "}\n",
       "\n",
       "\n",
       "</script>\n",
       "\n",
       "<!-- main map creation code, extended by mapboxgl/templates/graduated_circle.html -->\n",
       "<script type='text/javascript'>\n",
       "\n",
       "\n",
       "    mapboxgl.accessToken = 'pk.eyJ1IjoidHI1IiwiYSI6ImNqZ2cwMm54czA4eDcycXFtdHA1eWNsaW0ifQ.GBCT-wNb5xVec_dtyoWipQ';\n",
       "\n",
       "    var map = new mapboxgl.Map({\n",
       "        container: 'map',\n",
       "        style: 'mapbox://styles/mapbox/dark-v9?optimize=true',\n",
       "        center: [-95, 40],\n",
       "        zoom: 3,\n",
       "        transformRequest: (url, resourceType)=> {\n",
       "            if ( url.slice(0,22) == 'https://api.mapbox.com' ) {\n",
       "                //Add Python Plugin identifier for Mapbox API traffic\n",
       "                return {\n",
       "                   url: [url.slice(0, url.indexOf('?')+1), 'pluginName=PythonMapboxgl&', url.slice(url.indexOf('?')+1)].join('')\n",
       "                 }\n",
       "             }\n",
       "             else {\n",
       "                 //Do not transform URL for non Mapbox GET requests\n",
       "                 return {url: url}\n",
       "             }\n",
       "        }\n",
       "    });\n",
       "\n",
       "    \n",
       "\n",
       "        map.addControl(new mapboxgl.NavigationControl());\n",
       "\n",
       "    \n",
       "\n",
       "    \n",
       "\n",
       "    \n",
       "        calcCircleColorLegend([[4.0, 'rgb(255,255,178)'], [5.0, 'rgb(254,217,118)'], [7.0, 'rgb(254,178,76)'], [10.0, 'rgb(253,141,60)'], [17.0, 'rgb(252,78,42)'], [32.0, 'rgb(227,26,28)'], [58.0, 'rgb(177,0,38)']], 'Fatalities vs. casualties');\n",
       "    \n",
       "\n",
       "\n",
       "\n",
       "    \n",
       "\n",
       "    map.on('style.load', function() {\n",
       "        \n",
       "        map.addSource('data', {\n",
       "            'type': 'geojson',\n",
       "            'data': 'points.geojson', //data from dataframe output to geojson\n",
       "            'buffer': 0,\n",
       "            'maxzoom': 14\n",
       "        });\n",
       "\n",
       "        map.addLayer({\n",
       "            'id': 'label',\n",
       "            'source': 'data',\n",
       "            'type': 'symbol',\n",
       "            'maxzoom': 24,\n",
       "            'minzoom': 0,\n",
       "            'layout': {\n",
       "                \n",
       "                'text-size' : generateInterpolateExpression('zoom', [[0, 8],[22, 3* 8]] ),\n",
       "                'text-offset': [0,-1]\n",
       "            },\n",
       "            'paint': {\n",
       "                'text-halo-color': 'white',\n",
       "                'text-halo-width': generatePropertyExpression('interpolate', 'zoom', [[0,1], [18,5* 1]]),\n",
       "                'text-color': '#131516'\n",
       "            }\n",
       "        }, 'waterway-label' )\n",
       "\n",
       "        map.addLayer({\n",
       "            'id': 'circle',\n",
       "            'source': 'data',\n",
       "            'type': 'circle',\n",
       "            'maxzoom': 24,\n",
       "            'minzoom': 0,\n",
       "            'paint': {\n",
       "                \n",
       "                    'circle-color': generatePropertyExpression('interpolate', 'Fatalities', [[4.0, 'rgb(255,255,178)'], [5.0, 'rgb(254,217,118)'], [7.0, 'rgb(254,178,76)'], [10.0, 'rgb(253,141,60)'], [17.0, 'rgb(252,78,42)'], [32.0, 'rgb(227,26,28)'], [58.0, 'rgb(177,0,38)']], 'grey' ),\n",
       "                    \n",
       "                \n",
       "                    'circle-radius' : generatePropertyExpression('interpolate', 'casualties', [[5.0, 1.0], [8.0, 2.13], [13.0, 3.25], [22.0, 4.38], [35.0, 5.5], [55.0, 6.63], [102.0, 7.75], [604.0, 8.88]], 2 ),\n",
       "                    \n",
       "                'circle-stroke-color': 'grey',\n",
       "                'circle-stroke-width': generatePropertyExpression('interpolate', 'zoom', [[0,0.1], [18,5* 0.1]]),\n",
       "                'circle-opacity' : 0.9,\n",
       "                'circle-stroke-opacity' : 0.9\n",
       "            }\n",
       "        }, 'label');\n",
       "        \n",
       "        // Create a popup\n",
       "        var popup = new mapboxgl.Popup({\n",
       "            closeButton: false,\n",
       "            closeOnClick: false\n",
       "        });\n",
       "        \n",
       "        // Show the popup on mouseover\n",
       "        map.on('mousemove', 'circle', function(e) {\n",
       "            map.getCanvas().style.cursor = 'pointer';\n",
       "            let f = e.features[0];\n",
       "            let popup_html = '<div><li><b>Location</b>: ' + f.geometry.coordinates[0].toPrecision(6) + \n",
       "                ', ' + f.geometry.coordinates[1].toPrecision(6) + '</li>';\n",
       "\n",
       "            for (key in f.properties) {\n",
       "                popup_html += '<li><b> ' + key + '</b>: ' + f.properties[key] + ' </li>'\n",
       "            }\n",
       "\n",
       "            popup_html += '</div>'\n",
       "\n",
       "            popup.setLngLat(e.features[0].geometry.coordinates)\n",
       "                .setHTML(popup_html)\n",
       "                .addTo(map);\n",
       "        });\n",
       "\n",
       "        map.on('mouseleave', 'circle', function() {\n",
       "            map.getCanvas().style.cursor = '';\n",
       "            popup.remove();\n",
       "        });\n",
       "        \n",
       "        // Fly to on click\n",
       "        map.on('click', 'circle', function(e) {\n",
       "            map.easeTo({\n",
       "                center: e.features[0].geometry.coordinates,\n",
       "                zoom: map.getZoom() + 1\n",
       "            });\n",
       "        });\n",
       "    });\n",
       "    \n",
       "\n",
       "\n",
       "\n",
       "</script>\n",
       "\n",
       "</body>\n",
       "</html>\" style=\"width: 100%; height: 500px;\"></iframe>"
      ],
      "text/plain": [
       "<IPython.core.display.HTML object>"
      ]
     },
     "metadata": {},
     "output_type": "display_data"
    }
   ],
   "source": [
    "# Create a geojson file export from a Pandas dataframe\n",
    "mbgl.utils.df_to_geojson(df, filename='points.geojson',\n",
    "              properties=['case','Fatalities','Injured','date','year'],\n",
    "              lat='latitude', lon='longitude', precision=3)\n",
    "\n",
    "\n",
    "data = df\n",
    "main_prop = 'Fatalities'\n",
    "second_prop = 'casualties'\n",
    "\n",
    "\n",
    "# Generate data breaks and color stops from colorBrewer\n",
    "color_breaks = mapclassify.Natural_Breaks(data[main_prop], k=8, initial=0).bins\n",
    "color_stops =  mbgl.utils.create_color_stops(color_breaks, colors='YlOrRd') #colors='Spectral'\n",
    "\n",
    "# Generate radius breaks from data domain and circle-radius range\n",
    "radius_breaks = mapclassify.Natural_Breaks(data[second_prop], k=8, initial=0).bins\n",
    "radius_stops =  mbgl.utils.create_radius_stops(radius_breaks, 1, 10)\n",
    "\n",
    "center_us = (-95, 40)\n",
    "\n",
    "viz = GraduatedCircleViz('points.geojson', \n",
    "                  access_token=token,\n",
    "                  color_property = main_prop,\n",
    "                  color_stops = color_stops,\n",
    "                  radius_property = second_prop,\n",
    "                  radius_stops = radius_stops,\n",
    "                  center = center_us,\n",
    "                  opacity= 0.9,\n",
    "                  zoom = 3,\n",
    "                  style='mapbox://styles/mapbox/dark-v9?optimize=true',\n",
    "                  below_layer = 'waterway-label')\n",
    "viz.show()"
   ]
  },
  {
   "cell_type": "code",
   "execution_count": 38,
   "metadata": {},
   "outputs": [
    {
     "data": {
      "image/png": "[encoded data removed]",
      "text/plain": [
       "<matplotlib.figure.Figure at 0x1a14763750>"
      ]
     },
     "metadata": {},
     "output_type": "display_data"
    }
   ],
   "source": [
    "from pandas.plotting import autocorrelation_plot\n",
    "plt.figure()\n",
    "autocorrelation_plot(df['Fatalities'])\n",
    "plt.show()"
   ]
  },
  {
   "cell_type": "markdown",
   "metadata": {
    "collapsed": true
   },
   "source": [
    "## Years"
   ]
  },
  {
   "cell_type": "code",
   "execution_count": 47,
   "metadata": {},
   "outputs": [
    {
     "data": {
      "text/plain": [
       "array([2018, 2017, 2016, 2015, 2014, 2013, 2012, 2011, 2010, 2009, 2008,\n",
       "       2007, 2006, 2005, 2004, 2003, 2001, 2000, 1999, 1998, 1997, 1996,\n",
       "       1995, 1994, 1993, 1992, 1991, 1990, 1989, 1988, 1987, 1986, 1984,\n",
       "       1982])"
      ]
     },
     "execution_count": 47,
     "metadata": {},
     "output_type": "execute_result"
    }
   ],
   "source": [
    "df.year.unique()"
   ]
  },
  {
   "cell_type": "markdown",
   "metadata": {},
   "source": [
    "Looks like 2002 and 1985 are missing"
   ]
  },
  {
   "cell_type": "code",
   "execution_count": 85,
   "metadata": {},
   "outputs": [
    {
     "data": {
      "image/png": "[encoded data removed]",
      "text/plain": [
       "<matplotlib.figure.Figure at 0x1a18499bd0>"
      ]
     },
     "metadata": {},
     "output_type": "display_data"
    }
   ],
   "source": [
    "casualty_cols = ['Fatalities','Injured']\n",
    "# 'latitude','longitude']\n",
    "year_counts = df.groupby('year')['date'].count() # date is arbitrary\n",
    "plt.bar(year_counts.index, year_counts)\n",
    "plt.ylabel('Number of shootings')\n",
    "plt.show()"
   ]
  },
  {
   "cell_type": "code",
   "execution_count": 83,
   "metadata": {},
   "outputs": [
    {
     "data": {
      "image/png": "[encoded data removed]",
      "text/plain": [
       "<matplotlib.figure.Figure at 0x1a18499350>"
      ]
     },
     "metadata": {},
     "output_type": "display_data"
    }
   ],
   "source": [
    "# df.sort_values(by='year', ascending=False).plot.bar('year','Fatalities')\n",
    "# plt.xlim([2010,2018])\n",
    "plt.bar(df.year, df.Fatalities)\n",
    "plt.ylabel('Fatalities')\n",
    "plt.show()"
   ]
  },
  {
   "cell_type": "code",
   "execution_count": 117,
   "metadata": {},
   "outputs": [],
   "source": [
    "import statename_abv as state_names\n",
    "\n",
    "name_map = state_names.statename_to_abbr # name to state code map\n",
    "\n",
    "def extract_state(location):\n",
    "    state = location.split(',')[1].strip()\n",
    "    return name_map.get(state, state)\n",
    "    \n",
    "df['state'] = df.location.map(extract_state)"
   ]
  },
  {
   "cell_type": "code",
   "execution_count": 123,
   "metadata": {},
   "outputs": [
    {
     "data": {
      "image/png": "[encoded data removed]",
      "text/plain": [
       "<matplotlib.figure.Figure at 0x1a17e2d810>"
      ]
     },
     "metadata": {},
     "output_type": "display_data"
    }
   ],
   "source": [
    "state_counts = df.groupby('state')['date'].count() # date is arbitrary\n",
    "\n",
    "plt.figure(figsize=(8,4))\n",
    "plt.bar(state_counts.index, state_counts)\n",
    "plt.ylabel('Number of shootings')\n",
    "plt.show()"
   ]
  },
  {
   "cell_type": "markdown",
   "metadata": {},
   "source": [
    "Other ideas:\n",
    "* Are shootings increasing? Lin-reg? Chi squared test of shootings freq, recent years vs older years?\n"
   ]
  }
 ],
 "metadata": {
  "kernelspec": {
   "display_name": "Python 2",
   "language": "python",
   "name": "python2"
  },
  "language_info": {
   "codemirror_mode": {
    "name": "ipython",
    "version": 2
   },
   "file_extension": ".py",
   "mimetype": "text/x-python",
   "name": "python",
   "nbconvert_exporter": "python",
   "pygments_lexer": "ipython2",
   "version": "2.7.14"
  }
 },
 "nbformat": 4,
 "nbformat_minor": 1
}
